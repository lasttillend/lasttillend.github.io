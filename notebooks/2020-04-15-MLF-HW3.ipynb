{
 "cells": [
  {
   "cell_type": "markdown",
   "metadata": {},
   "source": [
    "# Machine Learning Foundations Homework 3"
   ]
  },
  {
   "cell_type": "markdown",
   "metadata": {},
   "source": [
    "**Question 1**\n",
    "\n",
    "Question 1-2 are about linear regression.\n",
    "\n",
    "Consider a noisy target $y=\\mathbf{w}_{f}^\\top \\mathbf{x}+\\epsilon$, where $\\mathbf{x} \\in \\mathbb{R}^{d}$ (with the added coordinate $x_0 = 1$, $y\\in \\mathbb{R}$, $\\mathbf{w}_{f}$ is an unknown vector, and $\\epsilon$ is a noise term with zero mean and $\\sigma^2$ variance. Assume $\\epsilon$ is independent of $\\mathbf{x}$ and all other $\\epsilon$'s. If linear regression is carried out using a training data set $\\mathcal{D}=\\left\\{\\left(\\mathbf{x}_{1}, y_{1}\\right), \\ldots,\\left(\\mathbf{x}_{N}, y_{N}\\right)\\right\\}$, and outputs the parameter vector $\\mathbf{w}_{\\text{lin}}$, it can be shown that the expected in-sample error $E_{\\text{in}}$ with respect to $\\mathcal{D}$ is given by:"
   ]
  },
  {
   "cell_type": "markdown",
   "metadata": {},
   "source": [
    "$$\n",
    "\\mathbb{E}_{\\mathcal{D}}\\left[E_{\\text {in }}\\left(\\mathbf{w}_{\\text {lin }}\\right)\\right]=\\sigma^{2}\\left(1-\\frac{d+1}{N}\\right)\n",
    "$$"
   ]
  },
  {
   "cell_type": "markdown",
   "metadata": {},
   "source": [
    "For $\\sigma = 0.1$ and $d=8$, which among the following choices is the smallest number of example $N$ that will result in an expected $E_{\\text{in}}$ greater than 0.008?\n",
    "\n",
    "- 500\n",
    "- 25\n",
    "- 100\n",
    "- 1000\n",
    "- 10"
   ]
  },
  {
   "cell_type": "markdown",
   "metadata": {},
   "source": [
    "**Sol:** "
   ]
  },
  {
   "cell_type": "code",
   "execution_count": 1,
   "metadata": {},
   "outputs": [],
   "source": [
    "sigma = 0.1\n",
    "d = 8\n",
    "\n",
    "expected_E_in = lambda N: sigma**2 * (1 - (d + 1) / N)"
   ]
  },
  {
   "cell_type": "code",
   "execution_count": 2,
   "metadata": {},
   "outputs": [
    {
     "name": "stdout",
     "output_type": "stream",
     "text": [
      " 500: 0.009820000000000002\n",
      "  25: 0.006400000000000001\n",
      " 100: 0.009100000000000002\n",
      "1000: 0.009910000000000002\n",
      "  10: 0.001\n"
     ]
    }
   ],
   "source": [
    "for N in [500, 25, 100, 1000, 10]:\n",
    "    print(f\"{N:>4}: {expected_E_in(N)}\")\n"
   ]
  },
  {
   "cell_type": "markdown",
   "metadata": {},
   "source": [
    "So the answer is $N = 100$."
   ]
  },
  {
   "cell_type": "markdown",
   "metadata": {},
   "source": [
    "**Question 2**\n",
    "\n",
    "Recall that we have introduced the hat matrix $\\mathrm{H}=\\mathrm{X}\\left(\\mathrm{X}^\\top \\mathrm{X}\\right)^{-1} \\mathrm{X}^\\top$ in class, where $\\mathbf{X} \\in \\mathbb{R}^{N \\times(d+1)}$ for $N$ examples and $d$ features. Assume $\\mathrm{X}^\\top \\mathrm{X}$ is invertible, which statements of $\\mathrm{H}$ are true?\n",
    "\n",
    "- (a) $\\mathrm{H}$ is always positive semi-definite.\n",
    "- (b) $\\mathrm{H}$ is always invertible.\n",
    "- (c) some eigenvalues of $\\mathrm{H}$ are possibly bigger than 1\n",
    "- (d) $d+1$ eigenvalues of $\\mathrm{H}$ are exactly 1.\n",
    "- (e) $\\mathrm{H}^{1126} = \\mathrm{H}$"
   ]
  },
  {
   "cell_type": "markdown",
   "metadata": {},
   "source": [
    "**Sol:**\n",
    "\n",
    "- (a): true, since the eigenvalues of $\\mathrm{H}$ are all non-negative.\n",
    "- (b): false, since the rank of $\\mathrm{H}$ is $d+1$, which may be less than $N$.\n",
    "- (c): false.\n",
    "- (d): true.\n",
    "- (e): true, since $\\mathrm{H}$ is an orthogonal projection matrix, project twice does not have much more effect."
   ]
  },
  {
   "cell_type": "markdown",
   "metadata": {},
   "source": [
    "**Question 3**\n",
    "\n",
    "Question 3-5 are about error and SGD\n",
    "\n",
    "Which of the following is an upper bound of $\\left[\\operatorname{sign}\\left(\\mathbf{w}^{T} \\mathbf{x}\\right) \\neq y\\right]$ for $y \\in \\{-1, +1\\}$?\n",
    "\n",
    "- $\\operatorname{err}(\\mathbf{w})=\\left(-y \\mathbf{w}^{T} \\mathbf{x}\\right)$\n",
    "- $\\operatorname{err}(\\mathbf{w})=\\left(\\max \\left(0,1-y \\mathbf{w}^{T} \\mathbf{x}\\right)\\right)^{2}$\n",
    "- $\\operatorname{err}(\\mathbf{w})=\\max \\left(0,-y \\mathbf{w}^{T} \\mathbf{x}\\right)$\n",
    "- $\\operatorname{err}(\\mathbf{w})=\\theta\\left(-y \\mathbf{w}^{T} \\mathbf{x}\\right)$"
   ]
  },
  {
   "cell_type": "markdown",
   "metadata": {},
   "source": [
    "**Sol:**\n",
    "\n",
    "If we draw the picture, than we can find that only the second error function $\\operatorname{err}(\\mathbf{w})=\\left(\\max \\left(0,1-y \\mathbf{w}^{T} \\mathbf{x}\\right)\\right)^{2}$ is an upper bound for the 0-1 error function."
   ]
  },
  {
   "cell_type": "markdown",
   "metadata": {},
   "source": [
    "**Question 4**\n",
    "\n",
    "Which of the following is not a everywhere-differentiable function of $\\mathbf{w}$?"
   ]
  },
  {
   "cell_type": "markdown",
   "metadata": {},
   "source": [
    "- $\\operatorname{err}(\\mathbf{w})=\\left(\\max \\left(0,1-y \\mathbf{w}^{T} \\mathbf{x}\\right)\\right)^{2}$\n",
    "- $\\operatorname{err}(\\mathbf{w})=\\max \\left(0,-y \\mathbf{w}^{T} \\mathbf{x}\\right)$\n",
    "- $\\operatorname{err}(\\mathbf{w})=\\theta\\left(-y \\mathbf{w}^{T} \\mathbf{x}\\right)$\n",
    "- $\\operatorname{err}(\\mathbf{w})=\\left(-y \\mathbf{w}^{T} \\mathbf{x}\\right)$"
   ]
  },
  {
   "cell_type": "markdown",
   "metadata": {},
   "source": [
    "**Sol:**\n",
    "\n",
    "The error function $\\operatorname{err}(\\mathbf{w})=\\max \\left(0,-y \\mathbf{w}^{T} \\mathbf{x}\\right)$ is not differentiable at $\\mathbf{w}$ where $\\mathbf{w}^T\\mathbf{x} = 0$."
   ]
  },
  {
   "cell_type": "markdown",
   "metadata": {},
   "source": [
    "**Question 5**\n",
    "\n",
    "When using SGD on the following error functions and 'ignoring' some singular points that are not differentiable, which of the following error function results in PLA?\n",
    "\n",
    "- $\\operatorname{err}(\\mathbf{w})=\\left(\\max \\left(0,1-y \\mathbf{w}^{T} \\mathbf{x}\\right)\\right)^{2}$\n",
    "- $\\operatorname{err}(\\mathbf{w})=\\max \\left(0,-y \\mathbf{w}^{T} \\mathbf{x}\\right)$\n",
    "- $\\operatorname{err}(\\mathbf{w})=\\theta\\left(-y \\mathbf{w}^{T} \\mathbf{x}\\right)$\n",
    "- $\\operatorname{err}(\\mathbf{w})=\\left(-y \\mathbf{w}^{T} \\mathbf{x}\\right)$"
   ]
  },
  {
   "cell_type": "markdown",
   "metadata": {},
   "source": [
    "**Sol:** The answer is $\\operatorname{err}(\\mathbf{w})=\\max \\left(0,-y \\mathbf{w}^{T} \\mathbf{x}\\right)$.\n",
    "\n",
    "At $\\mathbf{w}^{T} \\mathbf{x} \\neq 0 $, this error function is differentiable. \n",
    "\n",
    "If $y = -1$, then\n",
    "$$\n",
    "\\nabla\\text{err}(\\mathbf{w})=\\left\\{\\begin{array}{ll}\n",
    "\\mathbf{0}, & \\mathbf{w}^T\\mathbf{x} <0 \\\\\n",
    "\\mathbf{x}, & \\mathbf{w}^T\\mathbf{x} >0\n",
    "\\end{array}\\right..\n",
    "$$"
   ]
  },
  {
   "cell_type": "markdown",
   "metadata": {},
   "source": [
    "If $y = 1$, then\n",
    "\n",
    "$$\n",
    "\\nabla\\text{err}(\\mathbf{w})=\\left\\{\\begin{array}{ll}\n",
    "\\mathbf{0}, & \\mathbf{w}^T\\mathbf{x} >0 \\\\\n",
    "\\mathbf{-x}, & \\mathbf{w}^T\\mathbf{x} <0\n",
    "\\end{array}\\right..\n",
    "$$"
   ]
  },
  {
   "cell_type": "markdown",
   "metadata": {},
   "source": [
    "We can combine the two cases together as \n",
    "\n",
    "$$\n",
    "\\nabla\\text{err}(\\mathbf{w})=\\left\\{\\begin{array}{ll}\n",
    "\\mathbf{0}, & y\\mathbf{w}^T\\mathbf{x} >0 \\\\\n",
    "-y\\mathbf{x}, & y\\mathbf{w}^T\\mathbf{x} <0\n",
    "\\end{array}\\right..\n",
    "$$"
   ]
  },
  {
   "cell_type": "markdown",
   "metadata": {},
   "source": [
    "While in PLA, we update $\\mathbf{w}$ only at a misclassified point, i.e., $y \\mathbf{w}^T\\mathbf{x} < 0$, and the update value is exactly $y \\mathbf{x}$, which is the opposite direction of its gradient."
   ]
  },
  {
   "cell_type": "markdown",
   "metadata": {},
   "source": [
    "**Question 6**\n",
    "\n",
    "For Question 6-10, you will play with gradient descent algorithm and variants. Consider a function\n",
    "\n",
    "$$E(u, v)=e^{u}+e^{2 v}+e^{u v}+u^{2}-2 u v+2 v^{2}-3 u-2 v.\n",
    "$$"
   ]
  },
  {
   "cell_type": "markdown",
   "metadata": {},
   "source": [
    "What is the gradient $\\nabla E(u, v)$ around $(u, v)=(0,0)$?"
   ]
  },
  {
   "cell_type": "markdown",
   "metadata": {},
   "source": [
    "**Sol:**\n",
    "\n",
    "The gradient of $E(u, v)$ is \n",
    "\n",
    "$$\n",
    "\\nabla E(u, v) = \\left[\\begin{array}{l}\n",
    "\\frac{\\partial E}{\\partial u} \\\\\n",
    "\\frac{\\partial E}{\\partial v}\n",
    "\\end{array}\\right] = \\left[\\begin{array}{l}\n",
    "e^{u}+v e^{u v}+2 u-2 v-3 \\\\\n",
    "2 e^{2 v}+u e^{u v}-2 u+4 v-2\n",
    "\\end{array}\\right].\n",
    "$$"
   ]
  },
  {
   "cell_type": "markdown",
   "metadata": {},
   "source": [
    "So $\\nabla E(0, 0) = \\begin{bmatrix} -2 \\\\ 0 \\end{bmatrix} $."
   ]
  },
  {
   "cell_type": "markdown",
   "metadata": {},
   "source": [
    "**Question 7**\n",
    "\n",
    "In class, we have taught that the update rule of the gradient descent algorithm is \n",
    "\n",
    "$$\n",
    "\\left(u_{t+1}, v_{t+1}\\right)=\\left(u_{t}, v_{t}\\right)-\\eta \\nabla E\\left(u_{t}, v_{t}\\right).\n",
    "$$"
   ]
  },
  {
   "cell_type": "markdown",
   "metadata": {},
   "source": [
    "Please start from $\\left(u_{0}, v_{0}\\right)=(0,0)$, and fix $\\eta = 0.01$, what is $E\\left(u_{5}, v_{5}\\right)$ after five updates?"
   ]
  },
  {
   "cell_type": "markdown",
   "metadata": {},
   "source": [
    "**Sol:**"
   ]
  },
  {
   "cell_type": "code",
   "execution_count": 3,
   "metadata": {},
   "outputs": [],
   "source": [
    "import numpy as np\n",
    "\n",
    "E = lambda u, v: np.exp(u) + np.exp(2 * v) + np.exp(u * v) + \\\n",
    "                    u ** 2 - 2 * u * v + 2 * v ** 2 - 3 * u - 2 * v\n",
    "\n",
    "grad_E = lambda u, v: np.array([np.exp(u) + v * np.exp(u * v) + 2 * u - 2 * v - 3,\n",
    "                                2 * np.exp(2 * v) + u * np.exp(u * v) - 2 * u + 4 * v - 2])\n"
   ]
  },
  {
   "cell_type": "code",
   "execution_count": 4,
   "metadata": {},
   "outputs": [
    {
     "data": {
      "text/plain": [
       "2.8250003566832635"
      ]
     },
     "execution_count": 4,
     "metadata": {},
     "output_type": "execute_result"
    }
   ],
   "source": [
    "eta = 0.01\n",
    "ut, vt = 0, 0\n",
    "\n",
    "for i in range(5):\n",
    "    ut, vt = (ut, vt) - eta * grad_E(ut, vt)\n",
    "\n",
    "# After 5 updates    \n",
    "E(ut, vt)  "
   ]
  },
  {
   "cell_type": "markdown",
   "metadata": {},
   "source": [
    "So $E\\left(u_{5}, v_{5}\\right)$ is about 2.825."
   ]
  },
  {
   "cell_type": "markdown",
   "metadata": {},
   "source": [
    "**Question 8**\n",
    "\n",
    "Continue from Question 7, if we approximate the $E(u+\\Delta u, v+\\Delta v)$ by $\\hat{E}_{2}(\\Delta u, \\Delta v)$, where $\\hat{E}_{2}$ is the second-order Taylor's expansion of $E$ around $(u, v)$. Suppose \n",
    "\n",
    "$$\n",
    "\\hat{E}_{2}(\\Delta u, \\Delta v)=b_{u u}(\\Delta u)^{2}+b_{v v}(\\Delta v)^{2}+b_{u v}(\\Delta u)(\\Delta v)+b_{u} \\Delta u+b_{v} \\Delta v+b\n",
    "$$\n",
    "\n",
    "What are the values of $\\left(b_{u u}, b_{v v}, b_{u v}, b_{u}, b_{v}, b\\right)$ around $(u, v) = (0, 0)$?"
   ]
  },
  {
   "cell_type": "markdown",
   "metadata": {},
   "source": [
    "**Sol:**\n",
    "The Hessian matrix of $E$ is \n",
    "\n",
    "$$\n",
    "H_{E}(u, v)=\\left[\\begin{array}{cc}\n",
    "\\frac{\\partial^{2} E}{\\partial u^{2}} & \\frac{\\partial^{2} E}{\\partial u \\partial v} \\\\\n",
    "\\frac{\\partial^{2} E}{\\partial v \\partial u} & \\frac{\\partial^{2} E}{\\partial v^{2}}\n",
    "\\end{array}\\right] = \\left[\\begin{array}{ll}\n",
    "e^{u}+v^{2} e^{u v}+2 & e^{u v}+u v e^{u v}-2 \\\\\n",
    "e^{u v}+u v e^{u v}-2 & 4 e^{2v}+u^{2} e^{u v}+4\n",
    "\\end{array}\\right]\n",
    "$$"
   ]
  },
  {
   "cell_type": "markdown",
   "metadata": {},
   "source": [
    "Then\n",
    "\n",
    "$$\n",
    "H_{E}(0,0)=\\left[\\begin{array}{cc}\n",
    "3 & -1 \\\\\n",
    "-1 & 8\n",
    "\\end{array}\\right].\n",
    "$$"
   ]
  },
  {
   "cell_type": "markdown",
   "metadata": {},
   "source": [
    "If we denote $\\mathbf{h} = (\\Delta u, \\Delta v)^T$, then the second-order Taylor's expansion of $E$ around $(0, 0)$ can also be written as\n",
    "\n",
    "$$\n",
    "\\hat{E}_{2}(\\Delta u, \\Delta v) = \\hat{E}_2 (\\mathbf{h}) = E(0, 0) + \\nabla E (0, 0) \\cdot \\mathbf{h} + \\frac{1}{2} \\mathbf{h}^T H_E(0, 0) \\mathbf{h}.\n",
    "$$"
   ]
  },
  {
   "cell_type": "markdown",
   "metadata": {},
   "source": [
    "So $b_{uu} = 3/2, b_{v v} = 4, b_{u v} = -1$. By Question 6, $b_{u} = -2, b_{v} = 0$, and $b = E(0, 0) = 3$."
   ]
  },
  {
   "cell_type": "markdown",
   "metadata": {},
   "source": [
    "**Question 9**\n",
    "\n",
    "Continue from Question 8 and denote the Hessian matrix be $\\nabla^{2} E(u, v)$, and assume that the Hessian matrix is positive definite. What is the optimal $(\\Delta u, \\Delta v)$ to minimize $\\hat{E}_{2}(\\Delta u, \\Delta v)$? The direction is called the Newton Direction."
   ]
  },
  {
   "cell_type": "markdown",
   "metadata": {},
   "source": [
    "**Sol:**\n",
    "\n",
    "The second-order Taylor's expansion of $E$ around $(u, v)$ can be written as\n",
    "\n",
    "$$\n",
    "\\hat{E}_{2}(\\Delta u, \\Delta v) = \\hat{E}_2 (\\mathbf{h}) = E(u, v) + \\nabla E (u, v) \\cdot \\mathbf{h} + \\frac{1}{2} \\mathbf{h}^T H_E(u, v) \\mathbf{h}.\n",
    "$$"
   ]
  },
  {
   "cell_type": "markdown",
   "metadata": {},
   "source": [
    "Take derivative with respect to $\\Delta u$ and $\\Delta v$ to get\n",
    "\n",
    "$$\n",
    "\\frac{\\partial \\hat{E_2}}{\\partial \\Delta u} = \\frac{\\partial E}{\\partial u} +  \\frac{\\partial^2 E}{\\partial u^2} \\Delta u + \\frac{\\partial^2 E}{\\partial u \\partial v} \\Delta v \\\\\n",
    "\\frac{\\partial \\hat{E_2}}{\\partial \\Delta v} = \\frac{\\partial E}{\\partial v} +  \\frac{\\partial^2 E}{\\partial v^2} \\Delta v + \\frac{\\partial^2 E}{\\partial u \\partial v} \\Delta u.\n",
    "$$"
   ]
  },
  {
   "cell_type": "markdown",
   "metadata": {},
   "source": [
    "Set them to equal 0, we obtain\n",
    "\n",
    "$$\n",
    "\\mathbf{h} = (\\Delta u, \\Delta v)^T = -(\\nabla^{2} E(u, v))^{-1} \\nabla E (u, v).\n",
    "$$"
   ]
  },
  {
   "cell_type": "markdown",
   "metadata": {},
   "source": [
    "**Question 10**\n",
    "\n",
    "Using the Newton direction (without $\\eta$) to update, please start from $\\left(u_{0}, v_{0}\\right)=(0,0)$, what is $E(u_5, v_5)$ after five updates?"
   ]
  },
  {
   "cell_type": "code",
   "execution_count": 5,
   "metadata": {},
   "outputs": [],
   "source": [
    "from numpy.linalg import inv"
   ]
  },
  {
   "cell_type": "code",
   "execution_count": 6,
   "metadata": {},
   "outputs": [],
   "source": [
    "# Define Hessian matrix\n",
    "H_E = lambda u, v: np.array([[np.exp(u) + v ** 2 * np.exp(u * v) + 2, np.exp(u * v) + u * v * np.exp(u * v) - 2],\n",
    "                             [np.exp(u * v) + u * v * np.exp(u * v) - 2, 4 * np.exp(2 * v) + u ** 2 * np.exp(u * v) + 4]])"
   ]
  },
  {
   "cell_type": "code",
   "execution_count": 7,
   "metadata": {},
   "outputs": [
    {
     "data": {
      "text/plain": [
       "2.360823345643139"
      ]
     },
     "execution_count": 7,
     "metadata": {},
     "output_type": "execute_result"
    }
   ],
   "source": [
    "ut, vt = 0, 0\n",
    "\n",
    "for i in range(5):\n",
    "    newton_dir = -inv(H_E(ut, vt)) @ grad_E(ut, vt)\n",
    "    ut, vt = (ut, vt) + newton_dir\n",
    "\n",
    "# After 5 updates    \n",
    "E(ut, vt)  "
   ]
  },
  {
   "cell_type": "markdown",
   "metadata": {},
   "source": [
    "As we can see, the value of $E$ drops more quickly using Newton's method than gradient descent in this example. But this gain is at the cost of computing Hessian matrix."
   ]
  },
  {
   "cell_type": "markdown",
   "metadata": {},
   "source": [
    "**Question 11**\n",
    "\n",
    "For Question 11-12, you will play with feature transforms\n",
    "\n",
    "Consider six inputs $\\mathbf{x}_{1}=(1,1), \\mathbf{x}_{2}=(1,-1), \\mathbf{x}_{3}=(-1,-1), \\mathbf{x}_{4}=(-1,1), \\mathbf{x}_{5}=(0,0), \\mathbf{x}_{6}=(1,0)$. What is the biggest subset of those input vectors that can be shattered by the union of quadratic, linear, or constant hypothesis of $\\mathbf{x}$?"
   ]
  },
  {
   "cell_type": "markdown",
   "metadata": {},
   "source": [
    "**Sol::**\n",
    "\n",
    "Consider the general quadratic transform of $\\mathbf{x}=(x_1, x_2)$ by\n",
    "$$\n",
    "f(\\mathbf{x}) = (1, x_1, x_2, x_1^2, x_2^2, x_1 x_2).\n",
    "$$\n"
   ]
  },
  {
   "cell_type": "markdown",
   "metadata": {},
   "source": [
    "In our case, $f$ takes inputs $\\mathbf{x_1}, \\cdots, \\mathbf{x_6}$ to $\\mathbf{z}_1 = f(\\mathbf{x_1}), \\cdots, \\mathbf{z}_2 = f(\\mathbf{x_6})$, which is shown as the following matrix:\n",
    "\n",
    "$$\n",
    "Z = \\begin{bmatrix}\n",
    "1 &1 &1 &1 &1 &1 \\\\\n",
    "1 &1& -1& 1& 1& -1 \\\\\n",
    "1 & -1 & -1 & 1 & 1 & 1 \\\\\n",
    "1 & -1 & 1 &1 & 1 & -1 \\\\\n",
    "1 & 0 & 0 & 0 & 0 & 0 \\\\\n",
    "1 & 1 & 0 & 1 & 0 & 0\n",
    "\\end{bmatrix}\n",
    "$$\n",
    "\n"
   ]
  },
  {
   "cell_type": "markdown",
   "metadata": {},
   "source": [
    "This matrix $Z$ has full rank, which means for any $\\mathbf{y} = \\begin{bmatrix} y_1 \\\\ \\vdots \\\\ y_{5+1} \\end{bmatrix}$, the equation\n",
    "\n",
    "$$\n",
    "Z\\mathbf{\\tilde{w}} = \\mathbf{y}\n",
    "$$\n",
    "\n",
    "has a solution $\\mathbf{\\tilde{w}} = Z^{-1} \\mathbf{y}$."
   ]
  },
  {
   "cell_type": "markdown",
   "metadata": {},
   "source": [
    "Thus, these six points $\\mathbf{z}_1 \\cdots \\mathbf{z}_6$ can be shattered by lines in the transformed space. However, lines in the transformed space correspond to exactly quadratic curves in the original space, and hence, $\\mathbf{x}_1, \\cdots, \\mathbf{x}_6$ can be shattered by the union of quadratic, linear, or constant hypothesis of $\\mathbf{x}$."
   ]
  },
  {
   "cell_type": "markdown",
   "metadata": {},
   "source": [
    "**Question 12**\n",
    "\n",
    "Assume that a transformer peeks the data and decides the following transform $\\mathbf{\\Phi}$ \"intelligently\" from the data of size $N$. The transform maps $\\mathbf{x} \\in \\mathbb{R}^d$ to $\\mathbf{z} \\in \\mathbb{R}^N$ , where\n",
    "\n",
    "$$\n",
    "(\\Phi(\\mathbf{x}))_{n}=z_{n}=\\left[\\mathbf{x}=\\mathbf{x}_{n}\\right].\n",
    "$$"
   ]
  },
  {
   "cell_type": "markdown",
   "metadata": {},
   "source": [
    "Consider a learning algorithm that performs linear classification after the feature transform. That is, the algorithm effectively works on an $\\mathcal{H}_{\\mathbf{\\Phi}}$ that includes all possible $\\mathbf{\\Phi}$. What is $d_{v c}\\left(\\mathcal{H}_{\\Phi}\\right)$ (i.e., the maximum number of points that can be shattered by the process above)?"
   ]
  },
  {
   "cell_type": "markdown",
   "metadata": {},
   "source": [
    "**Sol:**\n",
    "\n",
    "If we apply $\\mathbf{\\Phi}$ to the training data $\\mathbf{x}_1, \\cdots, \\mathbf{x}_N$, then\n",
    "\n",
    "$$\n",
    "\\mathbf{\\Phi}(\\mathbf{x}_n) = \\mathbf{e}_n \\quad \\forall n=1, \\cdots N,\n",
    "$$\n",
    "\n",
    "where $\\mathbf{e}_n$ is the $n$-th standard basis vector in $\\mathbb{R}^N$."
   ]
  },
  {
   "cell_type": "markdown",
   "metadata": {},
   "source": [
    "If we put these $N$ vectors in the matrix $Z$ row by row, then we can find that $Z$ is exactly the identity matrix $I_{N\\times N}$. So by the same argument as Question 11, the training data $\\mathbf{x}_1, \\cdots, \\mathbf{x}_N$ can be shattered by $\\mathcal{H}_{\\mathbf{\\Phi}}$. This is true for all $N$, so the VC dimension of this hypothesis set is $\\infty$."
   ]
  },
  {
   "cell_type": "markdown",
   "metadata": {},
   "source": [
    "**Question 13**\n",
    "\n",
    "For Question 13-15, you will play with linear regression and feature transforms. Consider the target function:\n",
    "\n",
    "$$\n",
    "f\\left(x_{1}, x_{2}\\right)=\\operatorname{sign}\\left(x_{1}^{2}+x_{2}^{2}-0.6\\right)\n",
    "$$"
   ]
  },
  {
   "cell_type": "markdown",
   "metadata": {},
   "source": [
    "Generate a training set of $N = 1000$ points on $\\mathcal{X}=[-1,1] \\times[-1,1]$ with uniform probablity of picking each $\\mathbf{x} \\in \\mathcal{X}$. Generate simulated noise by flipping the sign of the output in a random 10% subset of the generated training set.\n",
    "\n",
    "Carry out linear regression without transformation, i.e., with feature vector: $(1, x_1, x_2)$, to find the weight $\\mathbf{w}$, and use $\\mathbf{w}_{\\text{lin}}$ directly for classification. What is the closest value to the classification (0/1) in-sample error ($E_{\\text{in}}$)? Run the experiment 1000 times and take the average $E_{\\text{in}}$ in order to reduce variation in your results."
   ]
  },
  {
   "cell_type": "code",
   "execution_count": 40,
   "metadata": {},
   "outputs": [],
   "source": [
    "import random\n",
    "from matplotlib import pyplot as plt\n",
    "from numpy.linalg import pinv"
   ]
  },
  {
   "cell_type": "code",
   "execution_count": 9,
   "metadata": {},
   "outputs": [],
   "source": [
    "# Target function\n",
    "# def f(x1, x2):\n",
    "#     def sign(x):\n",
    "#         return 1 if x > 0 else -1\n",
    "    \n",
    "#     return sign(x1 ** 2 + x2 ** 2 - 0.6)\n",
    "\n",
    "def generate_data(N):\n",
    "    \"\"\"\n",
    "    Args:\n",
    "        N: int\n",
    "    Returns:\n",
    "        X: ndarray of shape = [N, d]\n",
    "        y: ndarray of shape = [N, ]\n",
    "    \"\"\"\n",
    "    X = np.random.uniform(low=-1.0, high=1.0, size=(N, 2))\n",
    "    y = np.zeros(N)\n",
    "    \n",
    "    y = np.sign(X[:, 0] ** 2 + X[:, 1] ** 2 - 0.6)\n",
    "#     # Below does not take advantage of the numpy vectorized operation and is slow\n",
    "#     i = 0\n",
    "#     for x in X:\n",
    "#         y[i] = f(*x)\n",
    "#         i += 1\n",
    "    \n",
    "    # Add noise to y\n",
    "    p = 0.1\n",
    "    offset = int(N * p)\n",
    "    random_index = np.random.permutation(N)\n",
    "    \n",
    "    noisy_y_index = random_index[:offset]\n",
    "    y[noisy_y_index] *= -1\n",
    "    \n",
    "    return X, y"
   ]
  },
  {
   "cell_type": "code",
   "execution_count": 10,
   "metadata": {},
   "outputs": [],
   "source": [
    "N = 1000\n",
    "\n",
    "X, y = generate_data(N)"
   ]
  },
  {
   "cell_type": "code",
   "execution_count": 11,
   "metadata": {},
   "outputs": [
    {
     "data": {
      "image/png": "[encoded data removed]",
      "text/plain": [
       "<Figure size 864x576 with 1 Axes>"
      ]
     },
     "metadata": {
      "needs_background": "light"
     },
     "output_type": "display_data"
    }
   ],
   "source": [
    "fig, ax = plt.subplots(1, 1, figsize=(12, 8))\n",
    "ax.plot(X[y==1][:, 0], X[y==1][:, 1], color='blue', marker='o', linestyle='None', label='+1')\n",
    "ax.plot(X[y==-1][:, 0], X[y==-1][:, 1], color='red', marker='x', linestyle='None', label='-1'); "
   ]
  },
  {
   "cell_type": "code",
   "execution_count": 12,
   "metadata": {},
   "outputs": [],
   "source": [
    "def lin(X, y):\n",
    "    \"\"\"\n",
    "    Args:\n",
    "        X: ndarray of shape = [N, d]\n",
    "        y: ndarray of shape = [N, ]    \n",
    "    Returns:\n",
    "        w: ndarray of shape = [d, ]\n",
    "    \"\"\"\n",
    "    N = X.shape[0]\n",
    "    X = np.c_[np.ones((N, 1)), X]\n",
    "    w = pinv(X.T @ X) @ X.T @ y\n",
    "    return w"
   ]
  },
  {
   "cell_type": "code",
   "execution_count": 13,
   "metadata": {},
   "outputs": [
    {
     "data": {
      "text/plain": [
       "array([ 0.06586025,  0.02371489, -0.01288701])"
      ]
     },
     "execution_count": 13,
     "metadata": {},
     "output_type": "execute_result"
    }
   ],
   "source": [
    "w_lin = lin(X, y)\n",
    "w_lin"
   ]
  },
  {
   "cell_type": "code",
   "execution_count": 14,
   "metadata": {},
   "outputs": [],
   "source": [
    "def calc_err(X, y, w):\n",
    "    \"\"\"\n",
    "    Args:\n",
    "        X: ndarray of shape = [N, d]\n",
    "        y: ndarray of shape = [N, ] \n",
    "        w: ndarray of shape = [d, ]\n",
    "    Returns:\n",
    "        err: float\n",
    "    \"\"\"\n",
    "    N = X.shape[0]\n",
    "    X = np.c_[np.ones((N, 1)), X]\n",
    "    \n",
    "    y_hat = np.sign(X @ w)\n",
    "    err = np.mean(y_hat != y)\n",
    "    return err"
   ]
  },
  {
   "cell_type": "code",
   "execution_count": 15,
   "metadata": {},
   "outputs": [
    {
     "data": {
      "text/plain": [
       "0.467"
      ]
     },
     "execution_count": 15,
     "metadata": {},
     "output_type": "execute_result"
    }
   ],
   "source": [
    "calc_err(X, y, w_lin)"
   ]
  },
  {
   "cell_type": "code",
   "execution_count": 16,
   "metadata": {},
   "outputs": [],
   "source": [
    "def simulation_lin_no_trans(N):\n",
    "    err_list = []\n",
    "    for _ in range(1000):    \n",
    "        X, y = generate_data(N)    \n",
    "        w_lin = lin(X, y)\n",
    "        err = calc_err(X, y, w_lin)\n",
    "        err_list.append(err)\n",
    "    avg_err = np.mean(err_list)\n",
    "    return avg_err"
   ]
  },
  {
   "cell_type": "code",
   "execution_count": 17,
   "metadata": {},
   "outputs": [
    {
     "data": {
      "text/plain": [
       "0.508207"
      ]
     },
     "execution_count": 17,
     "metadata": {},
     "output_type": "execute_result"
    }
   ],
   "source": [
    "simulation_lin_no_trans(N=1000)"
   ]
  },
  {
   "cell_type": "markdown",
   "metadata": {},
   "source": [
    "**Question 14**\n",
    "Now, transform the training data into the following nonlinear feature vector:\n",
    "   \n",
    "$$\n",
    "\\left(1, x_{1}, x_{2}, x_{1} x_{2}, x_{1}^{2}, x_{2}^{2}\\right)\n",
    "$$"
   ]
  },
  {
   "cell_type": "markdown",
   "metadata": {},
   "source": [
    "Find the vector $\\tilde{\\mathbf{w}}$ that corresponds to the solution of linear regression, and take it for classification.\n",
    "\n",
    "Which of the following hypotheses is closest to the one you find using linear regression on the transformed input? Closest here means agrees the most with your hypothesis (has the most probability of agreeing on a randomly selected point)."
   ]
  },
  {
   "cell_type": "markdown",
   "metadata": {},
   "source": [
    "\\begin{aligned}\n",
    "&g\\left(x_{1}, x_{2}\\right)=\\operatorname{sign}\\left(-1-1.5 x_{1}+0.08 x_{2}+0.13 x_{1} x_{2}+0.05 x_{1}^{2}+1.5 x_{2}^{2}\\right)\\\\\n",
    "&g\\left(x_{1}, x_{2}\\right)=\\operatorname{sign}\\left(-1-1.5 x_{1}+0.08 x_{2}+0.13 x_{1} x_{2}+0.05 x_{1}^{2}+0.05 x_{2}^{2}\\right)\\\\\n",
    "&g\\left(x_{1}, x_{2}\\right)=\\operatorname{sign}\\left(-1-0.05 x_{1}+0.08 x_{2}+0.13 x_{1} x_{2}+1.5 x_{1}^{2}+1.5 x_{2}^{2}\\right)\\\\\n",
    "&g\\left(x_{1}, x_{2}\\right)=\\operatorname{sign}\\left(-1-0.05 x_{1}+0.08 x_{2}+0.13 x_{1} x_{2}+1.5 x_{1}^{2}+15 x_{2}^{2}\\right)\\\\\n",
    "&g\\left(x_{1}, x_{2}\\right)=\\operatorname{sign}\\left(-1-0.05 x_{1}+0.08 x_{2}+0.13 x_{1} x_{2}+15 x_{1}^{2}+1.5 x_{2}^{2}\\right)\n",
    "\\end{aligned}"
   ]
  },
  {
   "cell_type": "code",
   "execution_count": 18,
   "metadata": {},
   "outputs": [],
   "source": [
    "# def quadratic(x1, x2):\n",
    "#     return np.array([x1, x2, x1 * x2, x1 ** 2, x2 ** 2])\n",
    "\n",
    "def transform_X(X):\n",
    "    \"\"\"\n",
    "    Args:\n",
    "        X: ndarray of shape = [N, d]\n",
    "    Returns:\n",
    "        Z: ndarray of shape = [N, d]\n",
    "    \"\"\"\n",
    "    N = X.shape[0]\n",
    "    d = 5\n",
    "    Z = np.zeros((N, d))\n",
    "    Z[:, :2] = X[:]\n",
    "    Z[:, 2] = X[:, 0] * X[:, 1]\n",
    "    Z[:, 3] = X[:, 0] ** 2\n",
    "    Z[:, 4] = X[:, 1] ** 2\n",
    "    \n",
    "    # Below does not take advantage of the numpy vectorized operation and is slow\n",
    "#     i = 0\n",
    "#     for x in X:\n",
    "#         Z[i] = quadratic(*x)\n",
    "#         i += 1    \n",
    "    return Z\n",
    "    \n",
    "\n"
   ]
  },
  {
   "cell_type": "code",
   "execution_count": 19,
   "metadata": {},
   "outputs": [
    {
     "data": {
      "text/plain": [
       "array([-0.9914943 , -0.07906799,  0.1171203 , -0.02982396,  1.53896951,\n",
       "        1.62686342])"
      ]
     },
     "execution_count": 19,
     "metadata": {},
     "output_type": "execute_result"
    }
   ],
   "source": [
    "X, y = generate_data(N)  \n",
    "Z = transform_X(X)\n",
    "w_lin = lin(Z, y)\n",
    "w_lin"
   ]
  },
  {
   "cell_type": "markdown",
   "metadata": {},
   "source": [
    "So the closest hypothesis in the given hypotheses is\n",
    "\n",
    "$$\n",
    "g\\left(x_{1}, x_{2}\\right)=\\operatorname{sign}\\left(-1-0.05 x_{1}+0.08 x_{2}+0.13 x_{1} x_{2}+1.5 x_{1}^{2}+1.5 x_{2}^{2}\\right).\n",
    "$$"
   ]
  },
  {
   "cell_type": "markdown",
   "metadata": {},
   "source": [
    "We can also run the simulation with the transformed data to see the classification error drops dramatically:"
   ]
  },
  {
   "cell_type": "code",
   "execution_count": 20,
   "metadata": {},
   "outputs": [],
   "source": [
    "def simulation_lin_with_trans(N):\n",
    "    err_list = []\n",
    "    for _ in range(1000):    \n",
    "        X, y = generate_data(N)  \n",
    "        Z = transform_X(X)\n",
    "        w_lin = lin(Z, y)\n",
    "        err = calc_err(Z, y, w_lin)\n",
    "        err_list.append(err)\n",
    "    avg_err = np.mean(err_list)\n",
    "    return avg_err"
   ]
  },
  {
   "cell_type": "code",
   "execution_count": 21,
   "metadata": {},
   "outputs": [
    {
     "data": {
      "text/plain": [
       "0.124313"
      ]
     },
     "execution_count": 21,
     "metadata": {},
     "output_type": "execute_result"
    }
   ],
   "source": [
    "simulation_lin_with_trans(N=1000)"
   ]
  },
  {
   "cell_type": "markdown",
   "metadata": {},
   "source": [
    "**Question 15**\n",
    "\n",
    "What is the closest value to the classification out-of-sample error $E_{\\text{out}}$ of your hypothesis? Estimate it by generating a new set of 1000 points and adding noise as before. Average over 1000 runs to reduce the variation in your results."
   ]
  },
  {
   "cell_type": "code",
   "execution_count": 22,
   "metadata": {},
   "outputs": [],
   "source": [
    "def test_lin(N):\n",
    "    err_list = []\n",
    "    for _ in range(1000):    \n",
    "        X, y = generate_data(N)  \n",
    "        Z = transform_X(X)\n",
    "        w_lin = lin(Z, y)\n",
    "        \n",
    "        X_test, y_test = generate_data(N)\n",
    "        Z_test = transform_X(X_test)\n",
    "        # Calculate E_out\n",
    "        err = calc_err(Z_test, y_test, w_lin)\n",
    "        err_list.append(err)\n",
    "    avg_err = np.mean(err_list)\n",
    "    return avg_err"
   ]
  },
  {
   "cell_type": "code",
   "execution_count": 23,
   "metadata": {},
   "outputs": [
    {
     "data": {
      "text/plain": [
       "0.126341"
      ]
     },
     "execution_count": 23,
     "metadata": {},
     "output_type": "execute_result"
    }
   ],
   "source": [
    "test_lin(N=1000)"
   ]
  },
  {
   "cell_type": "markdown",
   "metadata": {},
   "source": [
    "**Question 16**\n",
    "\n",
    "For Question 16-17, you will derive an algorithm for multinomial (multiclass) logistic regression. For a $K$-class classification problem, we will denote the output space $\\mathcal{Y}=\\{1,2, \\cdots, K\\}$. The hypotheses considered by MLR are indexed by a list of weight vectors $\\left(\\mathbf{w}_{1}, \\cdots, \\mathbf{w}_{K}\\right)$, each weight vector of length $d+1$. Each list represents a hypothesis\n",
    "\n",
    "$$\n",
    "h_{y}(\\mathbf{x})=\\frac{\\exp \\left(\\mathbf{w}_{y}^{T} \\mathbf{x}\\right)}{\\sum_{i=1}^{K} \\exp \\left(\\mathbf{w}_{i}^{T} \\mathbf{x}\\right)}\n",
    "$$"
   ]
  },
  {
   "cell_type": "markdown",
   "metadata": {},
   "source": [
    "that can be used to approximate the target distribution $P(y | \\mathbf{x})$. MLR then seeks for the maximum likelihood solution over all such hypotheses.\n",
    "\n",
    "For general $K$, derive an $E_{\\mathrm{in}}\\left(\\mathbf{w}_{1}, \\cdots, \\mathbf{w}_{K}\\right)$ like page 11 of Lecture 10 slides by minimizing the negative log likelihood."
   ]
  },
  {
   "cell_type": "markdown",
   "metadata": {},
   "source": [
    "**Sol:**\n",
    "\n",
    "The likelihood function of multinomial logistic hypothesis is \n",
    "\n",
    "$$\n",
    "L(\\mathbf{w}_1, \\cdots, \\mathbf{w}_K) = \\prod_{n=1}^{N} f(\\mathbf{x}_n, y_n) = \\prod_{n=1}^{N} P(y_n | \\mathbf{x}_n) P(\\mathbf{x}_n) = \\prod_{n=1}^{N} h_{y_n}( \\mathbf{x}_n) P(\\mathbf{x}_n).\n",
    "$$"
   ]
  },
  {
   "cell_type": "markdown",
   "metadata": {},
   "source": [
    "So the log likelihood is\n",
    "\n",
    "$$\n",
    "\\log L(\\mathbf{w}_1, \\cdots, \\mathbf{w}_K) = \\sum_{n=1}^N \\left[\\log h_{y_n}( \\mathbf{x}_n) + \\log P(\\mathbf{x}_n)\\right],\n",
    "$$"
   ]
  },
  {
   "cell_type": "markdown",
   "metadata": {},
   "source": [
    "and maximizing log likelihood is equivalent to minimize its negative, i.e.,\n",
    "\n",
    "$$\n",
    "\\max_{\\mathbf{w}_1, \\cdots, \\mathbf{w}_K}  \\log L \\iff \\min_{\\mathbf{w}_1, \\cdots, \\mathbf{w}_K} -\\sum_{n=1}^N \\left[\\log h_{y_n}( \\mathbf{x}_n) + \\log P(\\mathbf{x}_n)\\right].\n",
    "$$"
   ]
  },
  {
   "cell_type": "markdown",
   "metadata": {},
   "source": [
    "Since the second term $\\log P(\\mathbf{x}_n)$ does not depend on $\\mathbf{w}_1, \\cdots, \\mathbf{w}_K$, we can simply ignore it. Then \n",
    "\n",
    "\\begin{align}\n",
    "\\max_{\\mathbf{w}_1, \\cdots, \\mathbf{w}_K}  \\log L &\\iff\n",
    "\\min_{\\mathbf{w}_1, \\cdots, \\mathbf{w}_K} -\\sum_{n=1}^N \\log h_{y_n}( \\mathbf{x}_n) \\\\\n",
    "&\\iff \\min_{\\mathbf{w}_1, \\cdots, \\mathbf{w}_K} \\sum_{n=1}^N \\left[ \\log\\left(\\sum_{i=1}^{K} \\exp \\left(\\mathbf{w}_{i}^{T} \\mathbf{x}_n \\right) \\right) -\\mathbf{w}^T_{y_n} \\mathbf{x}_n \\right]  \\\\\n",
    "&\\iff \\min_{\\mathbf{w}_1, \\cdots, \\mathbf{w}_K} \\frac{1}{N} \\sum_{n=1}^N \\left[ \\log\\left(\\sum_{i=1}^{K} \\exp \\left(\\mathbf{w}_{i}^{T} \\mathbf{x}_n \\right) \\right) -\\mathbf{w}^T_{y_n} \\mathbf{x}_n \\right] \n",
    "\\end{align}\n"
   ]
  },
  {
   "cell_type": "markdown",
   "metadata": {},
   "source": [
    "Therefore, the error function we want to minimize is \n",
    "\n",
    "$$\n",
    "E_{\\mathrm{in}}\\left(\\mathbf{w}_{1}, \\cdots, \\mathbf{w}_{K}\\right) = \\frac{1}{N} \\sum_{n=1}^N \\left[ \\log\\left(\\sum_{i=1}^{K} \\exp \\left(\\mathbf{w}_{i}^{T} \\mathbf{x}_n \\right) \\right) -\\mathbf{w}^T_{y_n} \\mathbf{x}_n \\right] \n",
    "$$"
   ]
  },
  {
   "cell_type": "markdown",
   "metadata": {},
   "source": [
    "**Question 17**\n",
    "\n",
    "For the $E_{\\text{in}}$ derived above, its gradient $\\nabla E_{\\mathrm{in}}$ can be represented by $\\left(\\frac{\\partial E_{\\text {in }}}{\\partial \\mathbf{w}_{1}}, \\frac{\\partial E_{\\text {in }}}{\\partial \\mathbf{w}_{2}}, \\cdots, \\frac{\\partial E_{\\text {in }}}{\\partial \\mathbf{w}_K}\\right)$, write down $\\frac{\\partial E_{\\text {in }}}{\\partial \\mathbf{w}_k}$."
   ]
  },
  {
   "cell_type": "markdown",
   "metadata": {},
   "source": [
    "**Sol:**\n",
    "\n",
    "Take the derivative with respect to $\\mathbf{w}_k$, we can obtain\n",
    "\n",
    "\\begin{align}\n",
    "\\frac{\\partial E_{\\text {in }}}{\\partial \\mathbf{w}_k} &= \\frac{1}{N} \\sum_{n=1}^N \\left[\\frac{\\exp (\\mathbf{w}_k^T \\mathbf{x}_n) \\mathbf{x}_n}{\\sum_{i=1}^{K} \\exp \\left(\\mathbf{w}_{i}^{T} \\mathbf{x}_n \\right)} - [y_n = k] \\mathbf{x}_n  \\right] \\\\\n",
    "&= \\frac{1}{N} \\sum_{n=1}^N \\left[\\left(h_{k}(\\mathbf{x}_n) - [y_n = k]\\right) \\mathbf{x}_n \\right]\n",
    "\\end{align}"
   ]
  },
  {
   "cell_type": "markdown",
   "metadata": {},
   "source": [
    "**Question 18**\n",
    "\n",
    "For Question 18-20, you will play with logistic regression.\n",
    "\n",
    "Please use the following set `hw3_train.dat` for training and the following set `hw3_test.dat` for testing.\n",
    "\n",
    "Implement the fixed learning rate gradient descent algorithm for logistic regression. Run the algorithm with $\\eta = 0.001$ and $T = 2000$. What is $E_{\\text{out}}(g)$ from your algorithm, evaluated using the 0/1 error on the test set?"
   ]
  },
  {
   "cell_type": "code",
   "execution_count": 24,
   "metadata": {},
   "outputs": [],
   "source": [
    "def sigmoid(s):\n",
    "    return 1 / (1 + np.exp(-s))"
   ]
  },
  {
   "cell_type": "code",
   "execution_count": 25,
   "metadata": {},
   "outputs": [],
   "source": [
    "def calc_grad_err(X, y, w):\n",
    "    \"\"\"\n",
    "    Args:\n",
    "        X: ndarray of shape = [N, d + 1]\n",
    "        y: ndarray of shape = [N, 1]\n",
    "        w: ndarray of shape = [d + 1, 1]\n",
    "    returns:\n",
    "        grad: ndarray of shape = [d + 1, 1]\n",
    "    \"\"\"\n",
    "    N = X.shape[0]\n",
    "    grad = (X * (-y)).T @ sigmoid(X @ w * (-y)) / N\n",
    "    return grad"
   ]
  },
  {
   "cell_type": "code",
   "execution_count": 26,
   "metadata": {},
   "outputs": [],
   "source": [
    "def lr(X, y, eta):\n",
    "    \"\"\"\n",
    "    Args:\n",
    "        X: ndarray of shape = [N, d]\n",
    "        y: ndarray of shape = [N, ]\n",
    "        eta: float\n",
    "    Returns:\n",
    "        wt: ndarray of shape = [d + 1, ]\n",
    "    \"\"\"\n",
    "    N, d = X.shape\n",
    "    X = np.c_[np.ones((N, 1)), X]\n",
    "#     wt = np.random.normal(size=(d+1, 1))  # initialize using normal distribution requires more steps to converge in this example\n",
    "    wt = np.zeros((d + 1, 1))               # initialize all parameters to zero converges more quickly\n",
    "    y = y.reshape(-1, 1)                    # reshape y to a two dimensional ndarray to make `calc_grad_err` function easy to implement\n",
    "     \n",
    "    T = 2000\n",
    "    for t in range(T):\n",
    "        grad_t = calc_grad_err(X, y, wt)\n",
    "        wt -= eta * grad_t\n",
    "\n",
    "    wt = wt.flatten()\n",
    "    return wt\n",
    "    "
   ]
  },
  {
   "cell_type": "code",
   "execution_count": 27,
   "metadata": {},
   "outputs": [],
   "source": [
    "def calc_zero_one_err(X, y, w):\n",
    "    \"\"\"\n",
    "    Args:\n",
    "        X: ndarray of shape = [N, d]\n",
    "        y: ndarray of shape = [N, ]\n",
    "        w: ndarray of shape = [d + 1, ]\n",
    "    Returns:\n",
    "        avg_err: float\n",
    "    \"\"\"\n",
    "    N = X.shape[0]\n",
    "    X = np.c_[np.ones((N, 1)), X]\n",
    "    y_hat = np.sign(X @ w)  # h(x) > 1/2 <==> w^T x > 0\n",
    "    avg_err = np.mean(y_hat != y)\n",
    "    return avg_err"
   ]
  },
  {
   "cell_type": "code",
   "execution_count": 28,
   "metadata": {},
   "outputs": [],
   "source": [
    "import pandas as pd"
   ]
  },
  {
   "cell_type": "code",
   "execution_count": 29,
   "metadata": {},
   "outputs": [],
   "source": [
    "# Read in training and test data\n",
    "df_train = pd.read_csv('hw3_train.dat', header=None, sep='\\s+')\n",
    "X_train_df, y_train_df = df_train.iloc[:, :-1], df_train.iloc[:, -1]\n",
    "X_train, y_train = X_train_df.to_numpy(), y_train_df.to_numpy()\n",
    "\n",
    "df_test = pd.read_csv('hw3_test.dat', header=None, sep='\\s+')\n",
    "X_test_df, y_test_df = df_test.iloc[:, :-1], df_test.iloc[:, -1]\n",
    "X_test, y_test = X_test_df.to_numpy(), y_test_df.to_numpy()"
   ]
  },
  {
   "cell_type": "code",
   "execution_count": 30,
   "metadata": {},
   "outputs": [],
   "source": [
    "eta = 0.001\n",
    "w_lr = lr(X_train, y_train, eta)"
   ]
  },
  {
   "cell_type": "code",
   "execution_count": 31,
   "metadata": {},
   "outputs": [
    {
     "data": {
      "text/plain": [
       "0.466"
      ]
     },
     "execution_count": 31,
     "metadata": {},
     "output_type": "execute_result"
    }
   ],
   "source": [
    "# E_in\n",
    "calc_zero_one_err(X_train, y_train, w_lr)"
   ]
  },
  {
   "cell_type": "code",
   "execution_count": 32,
   "metadata": {},
   "outputs": [
    {
     "data": {
      "text/plain": [
       "0.475"
      ]
     },
     "execution_count": 32,
     "metadata": {},
     "output_type": "execute_result"
    }
   ],
   "source": [
    "# E_out\n",
    "calc_zero_one_err(X_test, y_test, w_lr)"
   ]
  },
  {
   "cell_type": "markdown",
   "metadata": {},
   "source": [
    "**Question 19**\n",
    "\n",
    "Implement the fixed learning rate gradient descent algorithm for logistic regression. Run the algorithm with $\\eta = 0.01$ and $T = 2000$, what is $E_{\\text{out}}(g)$ from your algorithm, evaluated using the 0/1 error on the test set?"
   ]
  },
  {
   "cell_type": "code",
   "execution_count": 33,
   "metadata": {},
   "outputs": [],
   "source": [
    "eta = 0.01\n",
    "w_lr = lr(X_train, y_train, eta)"
   ]
  },
  {
   "cell_type": "code",
   "execution_count": 34,
   "metadata": {},
   "outputs": [
    {
     "data": {
      "text/plain": [
       "0.197"
      ]
     },
     "execution_count": 34,
     "metadata": {},
     "output_type": "execute_result"
    }
   ],
   "source": [
    "# E_in\n",
    "calc_zero_one_err(X_train, y_train, w_lr)"
   ]
  },
  {
   "cell_type": "code",
   "execution_count": 35,
   "metadata": {},
   "outputs": [
    {
     "data": {
      "text/plain": [
       "0.22"
      ]
     },
     "execution_count": 35,
     "metadata": {},
     "output_type": "execute_result"
    }
   ],
   "source": [
    "# E_out\n",
    "calc_zero_one_err(X_test, y_test, w_lr)"
   ]
  },
  {
   "cell_type": "markdown",
   "metadata": {},
   "source": [
    "**Question 20**\n",
    "\n",
    "Implement the fixed learning rate stochastic gradient descent algorithm for logistic regression. Instead of randomly choosing $n$ in each iteration, please simply pick the example with the cyclic order $n = 1, 2, \\cdots, N, 1, 2, \\cdots$\n",
    "\n",
    "Run the algorithm with $\\eta = 0.001$ and $T = 2000$, what is $E_{\\text{out}}(g)$ from your algorithm, evaluated using the 0/1 error on the test set?"
   ]
  },
  {
   "cell_type": "code",
   "execution_count": 36,
   "metadata": {},
   "outputs": [],
   "source": [
    "def lr_sgd(X, y, eta):\n",
    "    \"\"\"\n",
    "    Args:\n",
    "        X: ndarray of shape = [N, d]\n",
    "        y: ndarray of shape = [N, ]\n",
    "        eta: float\n",
    "    Returns:\n",
    "        wt: ndarray of shape = [d + 1, ]\n",
    "    \"\"\"\n",
    "    N, d = X.shape\n",
    "    X = np.c_[np.ones((N, 1)), X]\n",
    "    wt = np.zeros((d + 1, 1))               \n",
    "    y = y.reshape(-1, 1)                    \n",
    "     \n",
    "    T = 2000\n",
    "    n = 0\n",
    "    for t in range(T):\n",
    "        xt, yt = X[n].reshape(-1, 1).T, y[n]\n",
    "        grad_t = calc_grad_err(xt, yt, wt)\n",
    "        wt -= eta * grad_t\n",
    "        n = n + 1 if n != N - 1 else 0\n",
    "\n",
    "    wt = wt.flatten()\n",
    "    return wt\n",
    "    "
   ]
  },
  {
   "cell_type": "code",
   "execution_count": 37,
   "metadata": {},
   "outputs": [],
   "source": [
    "eta = 0.001\n",
    "w_lr = lr_sgd(X_train, y_train, eta)"
   ]
  },
  {
   "cell_type": "code",
   "execution_count": 38,
   "metadata": {},
   "outputs": [
    {
     "data": {
      "text/plain": [
       "0.464"
      ]
     },
     "execution_count": 38,
     "metadata": {},
     "output_type": "execute_result"
    }
   ],
   "source": [
    "# E_in\n",
    "calc_zero_one_err(X_train, y_train, w_lr)"
   ]
  },
  {
   "cell_type": "code",
   "execution_count": 39,
   "metadata": {},
   "outputs": [
    {
     "data": {
      "text/plain": [
       "0.473"
      ]
     },
     "execution_count": 39,
     "metadata": {},
     "output_type": "execute_result"
    }
   ],
   "source": [
    "# E_out\n",
    "calc_zero_one_err(X_test, y_test, w_lr)"
   ]
  },
  {
   "cell_type": "markdown",
   "metadata": {},
   "source": [
    "So for this data set, we need more iterations for SGD to converge."
   ]
  }
 ],
 "metadata": {
  "kernelspec": {
   "display_name": "th_daily",
   "language": "python",
   "name": "th"
  },
  "language_info": {
   "codemirror_mode": {
    "name": "ipython",
    "version": 3
   },
   "file_extension": ".py",
   "mimetype": "text/x-python",
   "name": "python",
   "nbconvert_exporter": "python",
   "pygments_lexer": "ipython3",
   "version": "3.7.4"
  }
 },
 "nbformat": 4,
 "nbformat_minor": 4
}
